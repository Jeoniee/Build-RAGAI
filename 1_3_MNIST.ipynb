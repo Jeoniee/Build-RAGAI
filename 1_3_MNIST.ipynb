{
  "nbformat": 4,
  "nbformat_minor": 0,
  "metadata": {
    "colab": {
      "provenance": [],
      "gpuType": "T4",
      "include_colab_link": true
    },
    "kernelspec": {
      "name": "python3",
      "display_name": "Python 3"
    },
    "language_info": {
      "name": "python"
    },
    "accelerator": "GPU"
  },
  "cells": [
    {
      "cell_type": "markdown",
      "metadata": {
        "id": "view-in-github",
        "colab_type": "text"
      },
      "source": [
        "<a href=\"https://colab.research.google.com/github/Jeoniee/spartaAI/blob/main/1_3_MNIST.ipynb\" target=\"_parent\"><img src=\"https://colab.research.google.com/assets/colab-badge.svg\" alt=\"Open In Colab\"/></a>"
      ]
    },
    {
      "cell_type": "markdown",
      "source": [
        "# MNIST 실습\n",
        "\n",
        "이번에는 28x28 흑백 손글씨 이미지를 보고 0~9 사이의 숫자 중 어떤 숫자를 쓴 것인지 예측하는 문제를 실습합니다.\n",
        "이번 실습에서는 GPU를 활용할 것이기 때문에, 이전 챕터에서 Colab에서 GPU를 설정하는 방법을 따라해주시길 바랍니다.\n",
        "\n",
        "GPU를 설정했으면 library들을 import합니다."
      ],
      "metadata": {
        "id": "OPJenlrhihrh"
      }
    },
    {
      "cell_type": "code",
      "execution_count": 1,
      "metadata": {
        "id": "6lXVfXoDtoQh"
      },
      "outputs": [],
      "source": [
        "import torch\n",
        "import torchvision\n",
        "import torchvision.transforms as transforms"
      ]
    },
    {
      "cell_type": "markdown",
      "source": [
        "다음은 dataset을 준비합니다. 손글씨 dataset은 MNIST라는 유명한 dataset이 있습니다. 이 dataset은 `torchvision`에서 제공하고 있으며, 다음과 같이 다운로드 받을 수 있습니다."
      ],
      "metadata": {
        "id": "pF-1zQvmiult"
      }
    },
    {
      "cell_type": "code",
      "source": [
        "transform = transforms.ToTensor()\n",
        "\n",
        "trainset = torchvision.datasets.MNIST(\n",
        "    root='./data',\n",
        "    train=True,\n",
        "    download=True,\n",
        "    transform=transform\n",
        ")\n",
        "\n",
        "testset = torchvision.datasets.MNIST(\n",
        "    root='./data',\n",
        "    train=False,\n",
        "    download=True,\n",
        "    transform=transform\n",
        ")"
      ],
      "metadata": {
        "id": "KAYlqPaRt6ti",
        "colab": {
          "base_uri": "https://localhost:8080/"
        },
        "outputId": "64dd88f7-06fc-4880-f6b7-16fe8709eea3"
      },
      "execution_count": 2,
      "outputs": [
        {
          "output_type": "stream",
          "name": "stderr",
          "text": [
            "100%|██████████| 9.91M/9.91M [00:01<00:00, 5.00MB/s]\n",
            "100%|██████████| 28.9k/28.9k [00:00<00:00, 132kB/s]\n",
            "100%|██████████| 1.65M/1.65M [00:01<00:00, 1.27MB/s]\n",
            "100%|██████████| 4.54k/4.54k [00:00<00:00, 7.55MB/s]\n"
          ]
        }
      ]
    },
    {
      "cell_type": "markdown",
      "source": [
        "\n",
        "MNIST는 손글씨 사진과 어떤 숫자를 의미하는지에 대한 label의 pair들로 구성되어있습니다.\n",
        "이 때, 우리는 PyTorch model을 사용할 것이기 때문에 손글씨 사진들을 모두 tensor로 변환해야합니다.\n",
        "이러한 부가적인 변환들은 `torchvision.transforms`에서 제공하고 있으며, `torchvision.datasets.MNIST`에서 `transform` 인자로 받을 수 있습니다.\n",
        "우리는 단순히 사진을 tensor로 바꾸고 싶기 때문에 `transforms.ToTensor()` transformation을 넘겨줍니다.\n",
        "\n",
        "다음은 전체 data의 개수와 첫 번째 data를 출력한 결과입니다."
      ],
      "metadata": {
        "id": "p-GqH7_ZjVMs"
      }
    },
    {
      "cell_type": "code",
      "source": [
        "from matplotlib import pyplot as plt\n",
        "\n",
        "\n",
        "print(len(trainset))\n",
        "print(trainset[0][0].shape, trainset[0][1])\n",
        "plt.imshow(trainset[0][0][0], cmap='gray')"
      ],
      "metadata": {
        "colab": {
          "base_uri": "https://localhost:8080/",
          "height": 484
        },
        "id": "Zsp3sHmojyhT",
        "outputId": "475ae546-16a3-4f7d-e3a6-04a1bafddbae"
      },
      "execution_count": 3,
      "outputs": [
        {
          "output_type": "stream",
          "name": "stdout",
          "text": [
            "60000\n",
            "torch.Size([1, 28, 28]) 5\n"
          ]
        },
        {
          "output_type": "execute_result",
          "data": {
            "text/plain": [
              "<matplotlib.image.AxesImage at 0x7c999e935bd0>"
            ]
          },
          "metadata": {},
          "execution_count": 3
        },
        {
          "output_type": "display_data",
          "data": {
            "text/plain": [
              "<Figure size 640x480 with 1 Axes>"
            ],
            "image/png": "[encoded data removed]"
          },
          "metadata": {}
        }
      ]
    },
    {
      "cell_type": "markdown",
      "source": [
        "첫 번째 출력결과를 통해 우리는 6만장의 손글씨 data가 있는 것을 알 수 있습니다.\n",
        "그리고 두 번째 출력결과를 통해 첫 번째 data의 shape은 (1, 28, 28)이고 5라는 숫자를 쓴 사진이라는 것을 알 수 있습니다.\n",
        "마지막으로 `plt.imshow`를 통해 visualize 했을 때 5라는 숫자가 나오는 것을 알 수 있습니다.\n",
        "\n",
        "다음은 SGD를 위해 dataset을 여러 개의 batch로 나누는 과정을 PyTorch로 구현한 모습입니다."
      ],
      "metadata": {
        "id": "udm8wDBsi301"
      }
    },
    {
      "cell_type": "code",
      "source": [
        "batch_size = 64\n",
        "\n",
        "trainloader = torch.utils.data.DataLoader(\n",
        "    trainset,\n",
        "    batch_size=batch_size,\n",
        "    shuffle=True\n",
        ")\n",
        "\n",
        "testloader = torch.utils.data.DataLoader(\n",
        "    testset,\n",
        "    batch_size=batch_size,\n",
        "    shuffle=False\n",
        ")"
      ],
      "metadata": {
        "id": "UxKu3kA2i5WH"
      },
      "execution_count": 4,
      "outputs": []
    },
    {
      "cell_type": "markdown",
      "source": [
        "PyTorch에서는 `DataLoader`가 dataset을 인자로 받아 batch로 나눠줍니다.\n",
        "부가적으로 `batch_size`라는 인자를 통해 batch size를 받고 있으며, `shuffle`이라는 인자를 통해 data들을 섞을지 결정해줍니다.\n",
        "우리는 SGD가 완전 랜덤으로 batch를 구성해야 잘 동작하는 것을 알고 있기 때문에 `shuffle`에 `True`를 넘겨주고 있습니다.\n",
        "\n",
        "다음은 첫 번째 batch를 출력한 모습입니다."
      ],
      "metadata": {
        "id": "z4Qyrm4WlzWt"
      }
    },
    {
      "cell_type": "code",
      "source": [
        "dataiter = iter(trainloader)\n",
        "images, labels = next(dataiter)\n",
        "print(images.shape, labels.shape)"
      ],
      "metadata": {
        "colab": {
          "base_uri": "https://localhost:8080/"
        },
        "id": "_Hd7XxyAvVNz",
        "outputId": "0f85e89e-ab7f-47f1-d532-d245fecb9c81"
      },
      "execution_count": 5,
      "outputs": [
        {
          "output_type": "stream",
          "name": "stdout",
          "text": [
            "torch.Size([64, 1, 28, 28]) torch.Size([64])\n"
          ]
        }
      ]
    },
    {
      "cell_type": "markdown",
      "source": [
        "`images`는 첫 번째 batch의 image들이고 `labels`는 첫 번째 batch의 label들입니다.\n",
        "위에서 batch size를 64로 설정했기 때문에 총 64개의 image와 label들이 있어야 합니다.\n",
        "실제 shape 출력 결과를 보면 그렇다는 것을 알 수 있습니다.\n",
        "\n",
        "다음은 (n, 1, 28, 28) shape의 image를 입력받아 0~9 사이의 정수 하나를 출력하는 3-layer MLP를 구현합니다."
      ],
      "metadata": {
        "id": "h0ZY5mDimRUK"
      }
    },
    {
      "cell_type": "code",
      "source": [
        "from torch import nn\n",
        "\n",
        "\n",
        "class Model(nn.Module):\n",
        "  def __init__(self, input_dim, n_dim):\n",
        "    super().__init__()\n",
        "\n",
        "    self.layer1 = nn.Linear(input_dim, n_dim)\n",
        "    self.layer2 = nn.Linear(n_dim, n_dim)\n",
        "    self.layer3 = nn.Linear(n_dim, 10) #1 -> 10으로 변경함\n",
        "\n",
        "    self.act = nn.ReLU()\n",
        "\n",
        "  def forward(self, x):\n",
        "    x = torch.flatten(x, start_dim=1)\n",
        "    x = self.act(self.layer1(x))\n",
        "    x = self.act(self.layer2(x))\n",
        "    x = self.act(self.layer3(x))\n",
        "\n",
        "    return x\n",
        "\n",
        "\n",
        "model = Model(28 * 28 * 1, 1024)"
      ],
      "metadata": {
        "id": "OLOA-ZGTuVVG"
      },
      "execution_count": 8,
      "outputs": []
    },
    {
      "cell_type": "markdown",
      "source": [
        "이전의 2-layer MLP와 유사한 형태임을 알 수 있습니다.\n",
        "여기서 특이사항은 `forward`의 첫 번째 줄에 `torch.flatten`을 사용한다는 것입니다.\n",
        "`Linear`는 이전에도 봤다시피 (n, d) 형태의 shape을 입력받습니다.\n",
        "이미지는 (n, 1, 28, 28)이기 때문에 (n, 1 * 28 * 28)로 shape을 변환해야 선형 함수에 입력으로 주어줄 수 있게 됩니다.\n",
        "이 역할을 수행하는 것이 바로 `torch.flatten`입니다.\n",
        "우리는 첫 번째 shape인 n을 보존할 것이기 때문에 flatten할 차원은 `start_dim=1`로 넘겨주게 됩니다.\n",
        "\n",
        "다음은 gradient descent를 수행해줄 optimizer를 구현하는 모습입니다."
      ],
      "metadata": {
        "id": "tag1rNcwmnAr"
      }
    },
    {
      "cell_type": "code",
      "source": [
        "from torch.optim import SGD\n",
        "\n",
        "lr = 0.001\n",
        "model = model.to('cuda')\n",
        "\n",
        "optimizer = SGD(model.parameters(), lr=lr)"
      ],
      "metadata": {
        "id": "ypS0TcOlvBhZ"
      },
      "execution_count": 9,
      "outputs": []
    },
    {
      "cell_type": "markdown",
      "source": [
        "이전 코드와 거의 똑같습니다. 다른 점은 `model.to('cuda')` 코드를 통해 우리가 구현한 model을 GPU로 옮긴 것입니다.\n",
        "MNIST 부터는 모델과 data가 커지면서 훨씬 많은 행렬 연산이 이루어지기 때문에 GPU를 활용하는 것이 빠릅니다.\n",
        "\n",
        "다음은 model을 MNIST에 학습하는 코드입니다."
      ],
      "metadata": {
        "id": "5PooeOKMnRfZ"
      }
    },
    {
      "cell_type": "code",
      "source": [
        "# 모델 학습 함수\n",
        "n_epochs = 100\n",
        "batch_size = 256\n",
        "lr = 0.001\n",
        "\n",
        "train_accs = []  # train 정확도 리스트\n",
        "test_accs = []   # test 정확도 리스트\n",
        "\n",
        "criterion = nn.CrossEntropyLoss()  # MSE 대신 CrossEntropyLoss 사용\n",
        "\n",
        "def accuracy(model, dataloader):\n",
        "    cnt = 0\n",
        "    acc = 0\n",
        "\n",
        "    # 평가 모드로 설정 -> 너무 느려서 바꿔봄\n",
        "    model.eval()\n",
        "\n",
        "    with torch.no_grad():  # 평가 중에는 gradient 계산을 하지 않음\n",
        "        for data in dataloader:\n",
        "            inputs, labels = data\n",
        "            inputs, labels = inputs.to('cuda'), labels.to('cuda')\n",
        "\n",
        "            preds = model(inputs)\n",
        "            preds = torch.argmax(preds, dim=-1)\n",
        "\n",
        "            cnt += labels.shape[0]\n",
        "            acc += (labels == preds).sum().item()\n",
        "\n",
        "    return acc / cnt\n",
        "\n",
        "\n",
        "for epoch in range(n_epochs):\n",
        "  total_loss = 0.\n",
        "  for data in trainloader:\n",
        "    model.zero_grad()\n",
        "    inputs, labels = data\n",
        "    inputs, labels = inputs.to('cuda'), labels.to('cuda')\n",
        "\n",
        "    preds = model(inputs)\n",
        "    loss = criterion(preds, labels)  # CrossEntropyLoss 사용\n",
        "    #loss = (preds[:, 0] - labels).pow(2).mean()\n",
        "    loss.backward()\n",
        "    optimizer.step()\n",
        "\n",
        "    total_loss += loss.item()\n",
        "\n",
        "# Epoch마다 train과 test 정확도 계산\n",
        "  model.eval()  # 모델을 평가 모드로 설정\n",
        "  train_acc = accuracy(model, trainloader)  # train 데이터 정확도\n",
        "  test_acc = accuracy(model, testloader)    # test 데이터 정확도\n",
        "\n",
        "  train_accs.append(train_acc)\n",
        "  test_accs.append(test_acc)\n",
        "\n",
        "  print(f\"Epoch {epoch:3d} | Loss: {total_loss}\")\n",
        "  #print(f\"Epoch {epoch+1}/{n_epochs} | Loss: {total_loss:.4f} | Train Accuracy: {train_acc:.4f} | Test Accuracy: {test_acc:.4f}\")"
      ],
      "metadata": {
        "colab": {
          "base_uri": "https://localhost:8080/"
        },
        "id": "TryX1hewvNiB",
        "outputId": "f7c9cc1f-5440-4710-dc2c-44996e2a2b97"
      },
      "execution_count": 12,
      "outputs": [
        {
          "output_type": "stream",
          "name": "stdout",
          "text": [
            "Epoch 1/100 | Loss: 708.0130 | Train Accuracy: 0.7408 | Test Accuracy: 0.7406\n",
            "Epoch 2/100 | Loss: 705.0124 | Train Accuracy: 0.7414 | Test Accuracy: 0.7404\n",
            "Epoch 3/100 | Loss: 702.1285 | Train Accuracy: 0.7418 | Test Accuracy: 0.7412\n",
            "Epoch 4/100 | Loss: 699.4920 | Train Accuracy: 0.7423 | Test Accuracy: 0.7420\n",
            "Epoch 5/100 | Loss: 696.6452 | Train Accuracy: 0.7431 | Test Accuracy: 0.7425\n",
            "Epoch 6/100 | Loss: 694.1474 | Train Accuracy: 0.7435 | Test Accuracy: 0.7430\n",
            "Epoch 7/100 | Loss: 691.6568 | Train Accuracy: 0.7443 | Test Accuracy: 0.7427\n",
            "Epoch 8/100 | Loss: 689.3308 | Train Accuracy: 0.7449 | Test Accuracy: 0.7433\n",
            "Epoch 9/100 | Loss: 687.0330 | Train Accuracy: 0.7451 | Test Accuracy: 0.7439\n",
            "Epoch 10/100 | Loss: 684.6324 | Train Accuracy: 0.7457 | Test Accuracy: 0.7449\n",
            "Epoch 11/100 | Loss: 682.4656 | Train Accuracy: 0.7462 | Test Accuracy: 0.7447\n",
            "Epoch 12/100 | Loss: 680.0452 | Train Accuracy: 0.7464 | Test Accuracy: 0.7449\n",
            "Epoch 13/100 | Loss: 678.0389 | Train Accuracy: 0.7470 | Test Accuracy: 0.7454\n",
            "Epoch 14/100 | Loss: 675.8444 | Train Accuracy: 0.7476 | Test Accuracy: 0.7460\n",
            "Epoch 15/100 | Loss: 673.6963 | Train Accuracy: 0.7479 | Test Accuracy: 0.7461\n",
            "Epoch 16/100 | Loss: 671.8286 | Train Accuracy: 0.7481 | Test Accuracy: 0.7464\n",
            "Epoch 17/100 | Loss: 669.7715 | Train Accuracy: 0.7489 | Test Accuracy: 0.7469\n",
            "Epoch 18/100 | Loss: 667.8555 | Train Accuracy: 0.7493 | Test Accuracy: 0.7471\n",
            "Epoch 19/100 | Loss: 665.7784 | Train Accuracy: 0.7497 | Test Accuracy: 0.7472\n",
            "Epoch 20/100 | Loss: 663.9882 | Train Accuracy: 0.7503 | Test Accuracy: 0.7481\n",
            "Epoch 21/100 | Loss: 662.1120 | Train Accuracy: 0.7504 | Test Accuracy: 0.7478\n",
            "Epoch 22/100 | Loss: 660.2263 | Train Accuracy: 0.7510 | Test Accuracy: 0.7479\n",
            "Epoch 23/100 | Loss: 658.4884 | Train Accuracy: 0.7514 | Test Accuracy: 0.7485\n",
            "Epoch 24/100 | Loss: 656.8031 | Train Accuracy: 0.7515 | Test Accuracy: 0.7490\n",
            "Epoch 25/100 | Loss: 654.8429 | Train Accuracy: 0.7519 | Test Accuracy: 0.7491\n",
            "Epoch 26/100 | Loss: 653.0242 | Train Accuracy: 0.7522 | Test Accuracy: 0.7494\n",
            "Epoch 27/100 | Loss: 651.4056 | Train Accuracy: 0.7525 | Test Accuracy: 0.7494\n",
            "Epoch 28/100 | Loss: 649.7325 | Train Accuracy: 0.7532 | Test Accuracy: 0.7503\n",
            "Epoch 29/100 | Loss: 648.1975 | Train Accuracy: 0.7535 | Test Accuracy: 0.7503\n",
            "Epoch 30/100 | Loss: 646.3763 | Train Accuracy: 0.7539 | Test Accuracy: 0.7507\n",
            "Epoch 31/100 | Loss: 644.7780 | Train Accuracy: 0.7539 | Test Accuracy: 0.7507\n",
            "Epoch 32/100 | Loss: 643.1432 | Train Accuracy: 0.7544 | Test Accuracy: 0.7508\n",
            "Epoch 33/100 | Loss: 641.6833 | Train Accuracy: 0.7548 | Test Accuracy: 0.7513\n",
            "Epoch 34/100 | Loss: 639.8053 | Train Accuracy: 0.7550 | Test Accuracy: 0.7515\n",
            "Epoch 35/100 | Loss: 638.6110 | Train Accuracy: 0.7557 | Test Accuracy: 0.7521\n",
            "Epoch 36/100 | Loss: 636.8583 | Train Accuracy: 0.7560 | Test Accuracy: 0.7523\n",
            "Epoch 37/100 | Loss: 635.4595 | Train Accuracy: 0.7562 | Test Accuracy: 0.7513\n",
            "Epoch 38/100 | Loss: 633.7566 | Train Accuracy: 0.7566 | Test Accuracy: 0.7529\n",
            "Epoch 39/100 | Loss: 632.5125 | Train Accuracy: 0.7569 | Test Accuracy: 0.7535\n",
            "Epoch 40/100 | Loss: 631.0169 | Train Accuracy: 0.7574 | Test Accuracy: 0.7535\n",
            "Epoch 41/100 | Loss: 629.4676 | Train Accuracy: 0.7575 | Test Accuracy: 0.7538\n",
            "Epoch 42/100 | Loss: 627.9539 | Train Accuracy: 0.7579 | Test Accuracy: 0.7542\n",
            "Epoch 43/100 | Loss: 626.5749 | Train Accuracy: 0.7585 | Test Accuracy: 0.7548\n",
            "Epoch 44/100 | Loss: 625.1276 | Train Accuracy: 0.7586 | Test Accuracy: 0.7551\n",
            "Epoch 45/100 | Loss: 623.7381 | Train Accuracy: 0.7591 | Test Accuracy: 0.7552\n",
            "Epoch 46/100 | Loss: 622.2532 | Train Accuracy: 0.7591 | Test Accuracy: 0.7558\n",
            "Epoch 47/100 | Loss: 620.9938 | Train Accuracy: 0.7595 | Test Accuracy: 0.7562\n",
            "Epoch 48/100 | Loss: 619.6651 | Train Accuracy: 0.7601 | Test Accuracy: 0.7563\n",
            "Epoch 49/100 | Loss: 618.3596 | Train Accuracy: 0.7597 | Test Accuracy: 0.7562\n",
            "Epoch 50/100 | Loss: 617.0542 | Train Accuracy: 0.7601 | Test Accuracy: 0.7566\n",
            "Epoch 51/100 | Loss: 615.7495 | Train Accuracy: 0.7604 | Test Accuracy: 0.7579\n",
            "Epoch 52/100 | Loss: 614.4607 | Train Accuracy: 0.7606 | Test Accuracy: 0.7576\n",
            "Epoch 53/100 | Loss: 613.0287 | Train Accuracy: 0.7612 | Test Accuracy: 0.7574\n",
            "Epoch 54/100 | Loss: 612.0474 | Train Accuracy: 0.7611 | Test Accuracy: 0.7577\n",
            "Epoch 55/100 | Loss: 610.8442 | Train Accuracy: 0.7613 | Test Accuracy: 0.7577\n",
            "Epoch 56/100 | Loss: 609.5343 | Train Accuracy: 0.7616 | Test Accuracy: 0.7580\n",
            "Epoch 57/100 | Loss: 608.2746 | Train Accuracy: 0.7620 | Test Accuracy: 0.7584\n",
            "Epoch 58/100 | Loss: 606.8870 | Train Accuracy: 0.7623 | Test Accuracy: 0.7586\n",
            "Epoch 59/100 | Loss: 605.8237 | Train Accuracy: 0.7626 | Test Accuracy: 0.7589\n",
            "Epoch 60/100 | Loss: 604.6029 | Train Accuracy: 0.7627 | Test Accuracy: 0.7590\n",
            "Epoch 61/100 | Loss: 603.5934 | Train Accuracy: 0.7628 | Test Accuracy: 0.7586\n",
            "Epoch 62/100 | Loss: 602.2784 | Train Accuracy: 0.7634 | Test Accuracy: 0.7588\n",
            "Epoch 63/100 | Loss: 601.1042 | Train Accuracy: 0.7636 | Test Accuracy: 0.7590\n",
            "Epoch 64/100 | Loss: 600.0489 | Train Accuracy: 0.7635 | Test Accuracy: 0.7589\n",
            "Epoch 65/100 | Loss: 598.8526 | Train Accuracy: 0.7640 | Test Accuracy: 0.7594\n",
            "Epoch 66/100 | Loss: 597.8307 | Train Accuracy: 0.7643 | Test Accuracy: 0.7591\n",
            "Epoch 67/100 | Loss: 596.6505 | Train Accuracy: 0.7645 | Test Accuracy: 0.7592\n",
            "Epoch 68/100 | Loss: 595.6433 | Train Accuracy: 0.7649 | Test Accuracy: 0.7597\n",
            "Epoch 69/100 | Loss: 594.5708 | Train Accuracy: 0.7650 | Test Accuracy: 0.7595\n",
            "Epoch 70/100 | Loss: 593.6230 | Train Accuracy: 0.7651 | Test Accuracy: 0.7596\n",
            "Epoch 71/100 | Loss: 592.3546 | Train Accuracy: 0.7658 | Test Accuracy: 0.7600\n",
            "Epoch 72/100 | Loss: 591.3819 | Train Accuracy: 0.7660 | Test Accuracy: 0.7599\n",
            "Epoch 73/100 | Loss: 590.4445 | Train Accuracy: 0.7661 | Test Accuracy: 0.7605\n",
            "Epoch 74/100 | Loss: 589.2843 | Train Accuracy: 0.7666 | Test Accuracy: 0.7607\n",
            "Epoch 75/100 | Loss: 588.4352 | Train Accuracy: 0.7662 | Test Accuracy: 0.7605\n",
            "Epoch 76/100 | Loss: 587.4490 | Train Accuracy: 0.7668 | Test Accuracy: 0.7608\n",
            "Epoch 77/100 | Loss: 586.1954 | Train Accuracy: 0.7668 | Test Accuracy: 0.7608\n",
            "Epoch 78/100 | Loss: 585.5037 | Train Accuracy: 0.7673 | Test Accuracy: 0.7606\n",
            "Epoch 79/100 | Loss: 584.4306 | Train Accuracy: 0.7677 | Test Accuracy: 0.7617\n",
            "Epoch 80/100 | Loss: 583.5204 | Train Accuracy: 0.7680 | Test Accuracy: 0.7617\n",
            "Epoch 81/100 | Loss: 582.5372 | Train Accuracy: 0.7680 | Test Accuracy: 0.7615\n",
            "Epoch 82/100 | Loss: 581.6197 | Train Accuracy: 0.7680 | Test Accuracy: 0.7618\n",
            "Epoch 83/100 | Loss: 580.7298 | Train Accuracy: 0.7684 | Test Accuracy: 0.7621\n",
            "Epoch 84/100 | Loss: 579.6658 | Train Accuracy: 0.7686 | Test Accuracy: 0.7623\n",
            "Epoch 85/100 | Loss: 578.8838 | Train Accuracy: 0.7693 | Test Accuracy: 0.7624\n",
            "Epoch 86/100 | Loss: 578.1292 | Train Accuracy: 0.7692 | Test Accuracy: 0.7625\n",
            "Epoch 87/100 | Loss: 577.1631 | Train Accuracy: 0.7696 | Test Accuracy: 0.7624\n",
            "Epoch 88/100 | Loss: 576.1680 | Train Accuracy: 0.7694 | Test Accuracy: 0.7626\n",
            "Epoch 89/100 | Loss: 575.4421 | Train Accuracy: 0.7698 | Test Accuracy: 0.7629\n",
            "Epoch 90/100 | Loss: 574.5218 | Train Accuracy: 0.7699 | Test Accuracy: 0.7627\n",
            "Epoch 91/100 | Loss: 573.5516 | Train Accuracy: 0.7702 | Test Accuracy: 0.7628\n",
            "Epoch 92/100 | Loss: 572.7084 | Train Accuracy: 0.7704 | Test Accuracy: 0.7637\n",
            "Epoch 93/100 | Loss: 571.9314 | Train Accuracy: 0.7702 | Test Accuracy: 0.7633\n",
            "Epoch 94/100 | Loss: 571.0031 | Train Accuracy: 0.7706 | Test Accuracy: 0.7638\n",
            "Epoch 95/100 | Loss: 570.4098 | Train Accuracy: 0.7708 | Test Accuracy: 0.7637\n",
            "Epoch 96/100 | Loss: 569.5218 | Train Accuracy: 0.7711 | Test Accuracy: 0.7640\n",
            "Epoch 97/100 | Loss: 568.7133 | Train Accuracy: 0.7712 | Test Accuracy: 0.7647\n",
            "Epoch 98/100 | Loss: 567.8009 | Train Accuracy: 0.7714 | Test Accuracy: 0.7643\n",
            "Epoch 99/100 | Loss: 567.3376 | Train Accuracy: 0.7719 | Test Accuracy: 0.7644\n",
            "Epoch 100/100 | Loss: 566.4509 | Train Accuracy: 0.7720 | Test Accuracy: 0.7651\n"
          ]
        }
      ]
    },
    {
      "cell_type": "markdown",
      "source": [
        "출력 결과를 보면 잘 수렴하는 것을 볼 수 있습니다.\n",
        "이전 구현과 다른 점은 다음 두 가지입니다.\n",
        "- `for data in trainloader`를 통해 batch들을 iterate하면서 model을 학습합니다.\n",
        "- `inputs, labels = inputs.to('cuda'), labels.to('cuda')`를 통해 model의 입력으로 들어가는 tensor들을 GPU로 보냅니다.\n",
        "\n",
        "마지막으로 첫 번째 data에 대한 예측 결과를 살펴봅시다."
      ],
      "metadata": {
        "id": "YRDcptrqniX7"
      }
    },
    {
      "cell_type": "code",
      "source": [
        "idx = 0\n",
        "\n",
        "x = trainset[idx][0][None]  # (1, 1, 28, 28)\n",
        "x = x.to('cuda')\n",
        "\n",
        "print(model(x))\n",
        "print(trainset[idx][1])"
      ],
      "metadata": {
        "id": "Zct0ssSKwjt1",
        "colab": {
          "base_uri": "https://localhost:8080/"
        },
        "outputId": "82701d9c-8add-4e5d-89d0-9b1fb3dae25a"
      },
      "execution_count": 29,
      "outputs": [
        {
          "output_type": "stream",
          "name": "stdout",
          "text": [
            "tensor([[ 0.0000,  0.0000,  0.0000,  6.8333,  0.0000, 10.2973,  0.0000,  0.0000,\n",
            "          0.0000,  0.1191]], device='cuda:0', grad_fn=<ReluBackward0>)\n",
            "5\n"
          ]
        }
      ]
    },
    {
      "cell_type": "markdown",
      "source": [
        "여기서 idx를 조정하여 다른 data에 대한 출력 결과도 볼 수 있습니다.\n",
        "예측 결과를 보시면 아직 성능이 그렇게 좋지 않은 것을 알 수 있습니다."
      ],
      "metadata": {
        "id": "qzgSOrMsoZ2z"
      }
    },
    {
      "cell_type": "code",
      "source": [
        "import matplotlib.pyplot as plt\n",
        "import numpy as np\n",
        "\n",
        "def plot_acc(train_accs, test_accs, label1='train', label2='test'):\n",
        "  x = np.arange(len(train_accs))\n",
        "\n",
        "  plt.plot(x, train_accs, label=label1)\n",
        "  plt.plot(x, test_accs, label=label2)\n",
        "  plt.legend()\n",
        "  plt.show()\n",
        "\n",
        "\n",
        "# 함수 호출 -> 함수 정의 이후에 호출 할 것\n",
        "plot_acc(train_accs, test_accs)\n",
        "\n"
      ],
      "metadata": {
        "id": "d6M4SpWQoML9",
        "outputId": "204f41cb-cba0-42ae-d5a4-c08d95ebfa38",
        "colab": {
          "base_uri": "https://localhost:8080/",
          "height": 430
        }
      },
      "execution_count": 43,
      "outputs": [
        {
          "output_type": "display_data",
          "data": {
            "text/plain": [
              "<Figure size 640x480 with 1 Axes>"
            ],
            "image/png": "[encoded data removed]"
          },
          "metadata": {}
        }
      ]
    }
  ]
}
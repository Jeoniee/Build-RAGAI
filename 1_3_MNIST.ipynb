{
  "nbformat": 4,
  "nbformat_minor": 0,
  "metadata": {
    "colab": {
      "provenance": [],
      "gpuType": "T4",
      "include_colab_link": true
    },
    "kernelspec": {
      "name": "python3",
      "display_name": "Python 3"
    },
    "language_info": {
      "name": "python"
    },
    "accelerator": "GPU"
  },
  "cells": [
    {
      "cell_type": "markdown",
      "metadata": {
        "id": "view-in-github",
        "colab_type": "text"
      },
      "source": [
        "<a href=\"https://colab.research.google.com/github/Jeoniee/spartaAI/blob/main/1_3_MNIST.ipynb\" target=\"_parent\"><img src=\"https://colab.research.google.com/assets/colab-badge.svg\" alt=\"Open In Colab\"/></a>"
      ]
    },
    {
      "cell_type": "markdown",
      "source": [
        "# MNIST 실습\n",
        "\n",
        "이번에는 28x28 흑백 손글씨 이미지를 보고 0~9 사이의 숫자 중 어떤 숫자를 쓴 것인지 예측하는 문제를 실습합니다.\n",
        "이번 실습에서는 GPU를 활용할 것이기 때문에, 이전 챕터에서 Colab에서 GPU를 설정하는 방법을 따라해주시길 바랍니다.\n",
        "\n",
        "GPU를 설정했으면 library들을 import합니다."
      ],
      "metadata": {
        "id": "OPJenlrhihrh"
      }
    },
    {
      "cell_type": "code",
      "execution_count": 1,
      "metadata": {
        "id": "6lXVfXoDtoQh"
      },
      "outputs": [],
      "source": [
        "import torch\n",
        "import torchvision\n",
        "import torchvision.transforms as transforms"
      ]
    },
    {
      "cell_type": "markdown",
      "source": [
        "다음은 dataset을 준비합니다. 손글씨 dataset은 MNIST라는 유명한 dataset이 있습니다. 이 dataset은 `torchvision`에서 제공하고 있으며, 다음과 같이 다운로드 받을 수 있습니다."
      ],
      "metadata": {
        "id": "pF-1zQvmiult"
      }
    },
    {
      "cell_type": "code",
      "source": [
        "transform = transforms.ToTensor()\n",
        "\n",
        "trainset = torchvision.datasets.CIFAR10(\n",
        "    root='./data',\n",
        "    train=True,\n",
        "    download=True,\n",
        "    transform=transform\n",
        ")\n",
        "\n",
        "testset = torchvision.datasets.CIFAR10(\n",
        "    root='./data',\n",
        "    train=False,\n",
        "    download=True,\n",
        "    transform=transform\n",
        ")"
      ],
      "metadata": {
        "id": "KAYlqPaRt6ti",
        "colab": {
          "base_uri": "https://localhost:8080/"
        },
        "outputId": "14a6e7a9-06c3-4d85-f58a-9b670903eb0f"
      },
      "execution_count": 16,
      "outputs": [
        {
          "output_type": "stream",
          "name": "stderr",
          "text": [
            "100%|██████████| 170M/170M [00:03<00:00, 43.8MB/s]\n"
          ]
        }
      ]
    },
    {
      "cell_type": "markdown",
      "source": [
        "MNIST는 손글씨 사진과 어떤 숫자를 의미하는지에 대한 label의 pair들로 구성되어있습니다.\n",
        "이 때, 우리는 PyTorch model을 사용할 것이기 때문에 손글씨 사진들을 모두 tensor로 변환해야합니다.\n",
        "이러한 부가적인 변환들은 `torchvision.transforms`에서 제공하고 있으며, `torchvision.datasets.MNIST`에서 `transform` 인자로 받을 수 있습니다.\n",
        "우리는 단순히 사진을 tensor로 바꾸고 싶기 때문에 `transforms.ToTensor()` transformation을 넘겨줍니다.\n",
        "\n",
        "다음은 전체 data의 개수와 첫 번째 data를 출력한 결과입니다."
      ],
      "metadata": {
        "id": "p-GqH7_ZjVMs"
      }
    },
    {
      "cell_type": "code",
      "source": [
        "from matplotlib import pyplot as plt\n",
        "\n",
        "\n",
        "print(len(trainset))\n",
        "print(trainset[0][0].shape, trainset[0][1])\n",
        "plt.imshow(trainset[0][0][0], cmap='gray')\n",
        "\n",
        "print(len(testset))\n",
        "print(testset[0][0].shape, testset[0][1])\n",
        "#plt.imshow(testset[0][0][0], cmap='gray')"
      ],
      "metadata": {
        "colab": {
          "base_uri": "https://localhost:8080/",
          "height": 501
        },
        "id": "Zsp3sHmojyhT",
        "outputId": "5873c027-91a1-413b-eb07-175aea19fcd3"
      },
      "execution_count": 17,
      "outputs": [
        {
          "output_type": "stream",
          "name": "stdout",
          "text": [
            "50000\n",
            "torch.Size([3, 32, 32]) 6\n",
            "10000\n",
            "torch.Size([3, 32, 32]) 3\n"
          ]
        },
        {
          "output_type": "display_data",
          "data": {
            "text/plain": [
              "<Figure size 640x480 with 1 Axes>"
            ],
            "image/png": "[encoded data removed]"
          },
          "metadata": {}
        }
      ]
    },
    {
      "cell_type": "markdown",
      "source": [
        "첫 번째 출력결과를 통해 우리는 6만장의 손글씨 data가 있는 것을 알 수 있습니다.\n",
        "그리고 두 번째 출력결과를 통해 첫 번째 data의 shape은 (1, 28, 28)이고 5라는 숫자를 쓴 사진이라는 것을 알 수 있습니다.\n",
        "마지막으로 `plt.imshow`를 통해 visualize 했을 때 5라는 숫자가 나오는 것을 알 수 있습니다.\n",
        "\n",
        "다음은 SGD를 위해 dataset을 여러 개의 batch로 나누는 과정을 PyTorch로 구현한 모습입니다."
      ],
      "metadata": {
        "id": "udm8wDBsi301"
      }
    },
    {
      "cell_type": "code",
      "source": [
        "batch_size = 256\n",
        "lr = 0.001\n",
        "n_epochs = 50\n",
        "\n",
        "\n",
        "trainloader = torch.utils.data.DataLoader(\n",
        "    trainset,\n",
        "    batch_size=batch_size,\n",
        "    shuffle=True\n",
        ")\n",
        "\n",
        "testloader = torch.utils.data.DataLoader(\n",
        "    testset,\n",
        "    batch_size=batch_size,\n",
        "    shuffle=False\n",
        ")"
      ],
      "metadata": {
        "id": "UxKu3kA2i5WH"
      },
      "execution_count": 35,
      "outputs": []
    },
    {
      "cell_type": "markdown",
      "source": [
        "PyTorch에서는 `DataLoader`가 dataset을 인자로 받아 batch로 나눠줍니다.\n",
        "부가적으로 `batch_size`라는 인자를 통해 batch size를 받고 있으며, `shuffle`이라는 인자를 통해 data들을 섞을지 결정해줍니다.\n",
        "우리는 SGD가 완전 랜덤으로 batch를 구성해야 잘 동작하는 것을 알고 있기 때문에 `shuffle`에 `True`를 넘겨주고 있습니다.\n",
        "\n",
        "다음은 첫 번째 batch를 출력한 모습입니다."
      ],
      "metadata": {
        "id": "z4Qyrm4WlzWt"
      }
    },
    {
      "cell_type": "code",
      "source": [
        "dataiter = iter(trainloader)\n",
        "images, labels = next(dataiter)\n",
        "print(images.shape, labels.shape)"
      ],
      "metadata": {
        "colab": {
          "base_uri": "https://localhost:8080/"
        },
        "id": "_Hd7XxyAvVNz",
        "outputId": "908a5505-4717-4191-8f62-d8116d5ef6c7"
      },
      "execution_count": 36,
      "outputs": [
        {
          "output_type": "stream",
          "name": "stdout",
          "text": [
            "torch.Size([256, 3, 32, 32]) torch.Size([256])\n"
          ]
        }
      ]
    },
    {
      "cell_type": "markdown",
      "source": [
        "`images`는 첫 번째 batch의 image들이고 `labels`는 첫 번째 batch의 label들입니다.\n",
        "위에서 batch size를 64로 설정했기 때문에 총 64개의 image와 label들이 있어야 합니다.\n",
        "실제 shape 출력 결과를 보면 그렇다는 것을 알 수 있습니다.\n",
        "\n",
        "다음은 (n, 1, 28, 28) shape의 image를 입력받아 0~9 사이의 정수 하나를 출력하는 3-layer MLP를 구현합니다."
      ],
      "metadata": {
        "id": "h0ZY5mDimRUK"
      }
    },
    {
      "cell_type": "code",
      "source": [
        "from torch import nn\n",
        "\n",
        "\n",
        "class Model(nn.Module):\n",
        "  def __init__(self, input_dim, n_dim):\n",
        "    super().__init__()\n",
        "\n",
        "    self.layer1 = nn.Linear(input_dim, n_dim)\n",
        "    self.layer2 = nn.Linear(n_dim, n_dim)\n",
        "    self.layer3 = nn.Linear(n_dim, 10)\n",
        "\n",
        "    self.act = nn.LeakyReLU(0.01)\n",
        "\n",
        "  def forward(self, x):\n",
        "    x = torch.flatten(x, start_dim=1)\n",
        "    x = self.act(self.layer1(x))\n",
        "    x = self.act(self.layer2(x))\n",
        "    x = self.act(self.layer3(x))\n",
        "\n",
        "    return x\n",
        "\n",
        "\n",
        "#model = Model(28 * 28 * 1, 1024)\n",
        "model = Model(32 * 32 * 3, 1024).to('cuda') #이미지 크기가 32 * 32 * 3"
      ],
      "metadata": {
        "id": "OLOA-ZGTuVVG"
      },
      "execution_count": 37,
      "outputs": []
    },
    {
      "cell_type": "markdown",
      "source": [
        "이전의 2-layer MLP와 유사한 형태임을 알 수 있습니다.\n",
        "여기서 특이사항은 `forward`의 첫 번째 줄에 `torch.flatten`을 사용한다는 것입니다.\n",
        "`Linear`는 이전에도 봤다시피 (n, d) 형태의 shape을 입력받습니다.\n",
        "이미지는 (n, 1, 28, 28)이기 때문에 (n, 1 * 28 * 28)로 shape을 변환해야 선형 함수에 입력으로 주어줄 수 있게 됩니다.\n",
        "이 역할을 수행하는 것이 바로 `torch.flatten`입니다.\n",
        "우리는 첫 번째 shape인 n을 보존할 것이기 때문에 flatten할 차원은 `start_dim=1`로 넘겨주게 됩니다.\n",
        "\n",
        "다음은 gradient descent를 수행해줄 optimizer를 구현하는 모습입니다."
      ],
      "metadata": {
        "id": "tag1rNcwmnAr"
      }
    },
    {
      "cell_type": "code",
      "source": [
        "from torch.optim import SGD, Adam\n",
        "\n",
        "optimizer = SGD(model.parameters(), lr=lr)\n",
        "\n",
        "# SGD, Adam Optimizer 추가\n",
        "sgd_optimizer = SGD(model.parameters(), lr=lr)\n",
        "adam_optimizer = Adam(model.parameters(), lr=lr)"
      ],
      "metadata": {
        "id": "ypS0TcOlvBhZ"
      },
      "execution_count": 38,
      "outputs": []
    },
    {
      "cell_type": "markdown",
      "source": [
        "이전 코드와 거의 똑같습니다. 다른 점은 `model.to('cuda')` 코드를 통해 우리가 구현한 model을 GPU로 옮긴 것입니다.\n",
        "MNIST 부터는 모델과 data가 커지면서 훨씬 많은 행렬 연산이 이루어지기 때문에 GPU를 활용하는 것이 빠릅니다.\n",
        "\n",
        "다음은 model을 MNIST에 학습하는 코드입니다."
      ],
      "metadata": {
        "id": "5PooeOKMnRfZ"
      }
    },
    {
      "cell_type": "code",
      "source": [
        "\n",
        "\n",
        "train_accs = []  # train 정확도 리스트\n",
        "test_accs = []   # test 정확도 리스트\n",
        "\n",
        "criterion = nn.CrossEntropyLoss()\n",
        "\n",
        "\n",
        "\n",
        "def accuracy(model, dataloader):\n",
        "    cnt = 0\n",
        "    acc = 0\n",
        "\n",
        "    # 평가 모드로 설정 -> 너무 느려서 바꿔봄\n",
        "    model.eval()\n",
        "\n",
        "    with torch.no_grad():  # 평가 중에는 gradient 계산을 하지 않음\n",
        "        for data in dataloader:\n",
        "            inputs, labels = data\n",
        "            inputs, labels = inputs.to('cuda'), labels.to('cuda')\n",
        "\n",
        "            preds = model(inputs)\n",
        "            preds = torch.argmax(preds, dim=-1)\n",
        "\n",
        "            cnt += labels.shape[0]\n",
        "            acc += (labels == preds).sum().item()\n",
        "\n",
        "    return acc / cnt\n",
        "\n",
        "\n",
        "# 학습 함수\n",
        "def train(model, optimizer):\n",
        "    train_accs = []  # train 정확도 리스트\n",
        "    test_accs = []   # test 정확도 리스트\n",
        "\n",
        "    for epoch in range(n_epochs):\n",
        "        model.train()  # 학습 모드 설정\n",
        "        total_loss = 0.\n",
        "\n",
        "        for data in trainloader:\n",
        "            optimizer.zero_grad()  # 기울기 초기화\n",
        "            inputs, labels = data\n",
        "            inputs, labels = inputs.to('cuda'), labels.to('cuda')\n",
        "\n",
        "            preds = model(inputs)\n",
        "            loss = criterion(preds, labels)  # CrossEntropyLoss 사용\n",
        "            loss.backward()  # 역전파\n",
        "            optimizer.step()  # 파라미터 업데이트\n",
        "\n",
        "            total_loss += loss.item()\n",
        "\n",
        "        # Epoch마다 train과 test 정확도 계산\n",
        "        train_acc = accuracy(model, trainloader)\n",
        "        test_acc = accuracy(model, testloader)\n",
        "\n",
        "        train_accs.append(train_acc)\n",
        "        test_accs.append(test_acc)\n",
        "\n",
        "        print(f\"Epoch {epoch + 1}/{n_epochs} | Loss: {total_loss / len(trainloader.dataset):.4f} | Train Accuracy: {train_acc:.4f} | Test Accuracy: {test_acc:.4f}\")\n",
        "\n",
        "    return train_accs, test_accs\n",
        "\n",
        "\n",
        "\n",
        "# 학습 실행 (SGD 학습)\n",
        "print(\"Training with SGD optimizer...\")\n",
        "sgd_train_accs, sgd_test_accs = train(model, sgd_optimizer)\n",
        "\n",
        "# 학습 실행 (Adam 학습)\n",
        "print(\"Training with Adam optimizer...\")\n",
        "adam_train_accs, adam_test_accs = train(model, adam_optimizer)\n",
        "\n",
        "# 정확도 그래프 출력\n",
        "plt.plot(range(1, 51), sgd_train_accs, label=\"SGD Train Accuracy\", marker='o')\n",
        "plt.plot(range(1, 51), sgd_test_accs, label=\"SGD Test Accuracy\", marker='s')\n",
        "plt.plot(range(1, 51), adam_train_accs, label=\"Adam Train Accuracy\", marker='o')\n",
        "plt.plot(range(1, 51), adam_test_accs, label=\"Adam Test Accuracy\", marker='s')\n",
        "plt.xlabel(\"Epochs\")\n",
        "plt.ylabel(\"Accuracy\")\n",
        "plt.title(\"Train and Test Accuracy: SGD vs Adam\")\n",
        "plt.legend()\n",
        "plt.show()"
      ],
      "metadata": {
        "colab": {
          "base_uri": "https://localhost:8080/",
          "height": 1000
        },
        "id": "TryX1hewvNiB",
        "outputId": "ba152edc-38f6-41c1-f7bc-1339c28918de"
      },
      "execution_count": 39,
      "outputs": [
        {
          "output_type": "stream",
          "name": "stdout",
          "text": [
            "Training with SGD optimizer...\n",
            "Epoch 1/50 | Loss: 0.0090 | Train Accuracy: 0.1008 | Test Accuracy: 0.1010\n",
            "Epoch 2/50 | Loss: 0.0090 | Train Accuracy: 0.1041 | Test Accuracy: 0.1051\n",
            "Epoch 3/50 | Loss: 0.0090 | Train Accuracy: 0.1207 | Test Accuracy: 0.1204\n",
            "Epoch 4/50 | Loss: 0.0089 | Train Accuracy: 0.1492 | Test Accuracy: 0.1510\n",
            "Epoch 5/50 | Loss: 0.0089 | Train Accuracy: 0.1783 | Test Accuracy: 0.1796\n",
            "Epoch 6/50 | Loss: 0.0089 | Train Accuracy: 0.1993 | Test Accuracy: 0.2012\n",
            "Epoch 7/50 | Loss: 0.0089 | Train Accuracy: 0.2104 | Test Accuracy: 0.2142\n",
            "Epoch 8/50 | Loss: 0.0088 | Train Accuracy: 0.2217 | Test Accuracy: 0.2257\n",
            "Epoch 9/50 | Loss: 0.0088 | Train Accuracy: 0.2394 | Test Accuracy: 0.2434\n",
            "Epoch 10/50 | Loss: 0.0088 | Train Accuracy: 0.2419 | Test Accuracy: 0.2441\n",
            "Epoch 11/50 | Loss: 0.0087 | Train Accuracy: 0.2482 | Test Accuracy: 0.2523\n",
            "Epoch 12/50 | Loss: 0.0087 | Train Accuracy: 0.2525 | Test Accuracy: 0.2576\n",
            "Epoch 13/50 | Loss: 0.0087 | Train Accuracy: 0.2594 | Test Accuracy: 0.2627\n",
            "Epoch 14/50 | Loss: 0.0086 | Train Accuracy: 0.2661 | Test Accuracy: 0.2681\n",
            "Epoch 15/50 | Loss: 0.0086 | Train Accuracy: 0.2692 | Test Accuracy: 0.2721\n",
            "Epoch 16/50 | Loss: 0.0086 | Train Accuracy: 0.2773 | Test Accuracy: 0.2798\n",
            "Epoch 17/50 | Loss: 0.0085 | Train Accuracy: 0.2787 | Test Accuracy: 0.2813\n",
            "Epoch 18/50 | Loss: 0.0085 | Train Accuracy: 0.2812 | Test Accuracy: 0.2862\n",
            "Epoch 19/50 | Loss: 0.0084 | Train Accuracy: 0.2858 | Test Accuracy: 0.2912\n",
            "Epoch 20/50 | Loss: 0.0084 | Train Accuracy: 0.2875 | Test Accuracy: 0.2938\n",
            "Epoch 21/50 | Loss: 0.0084 | Train Accuracy: 0.2901 | Test Accuracy: 0.2945\n",
            "Epoch 22/50 | Loss: 0.0083 | Train Accuracy: 0.2931 | Test Accuracy: 0.2971\n",
            "Epoch 23/50 | Loss: 0.0083 | Train Accuracy: 0.2975 | Test Accuracy: 0.3027\n",
            "Epoch 24/50 | Loss: 0.0082 | Train Accuracy: 0.3000 | Test Accuracy: 0.3062\n",
            "Epoch 25/50 | Loss: 0.0082 | Train Accuracy: 0.3030 | Test Accuracy: 0.3067\n",
            "Epoch 26/50 | Loss: 0.0082 | Train Accuracy: 0.3043 | Test Accuracy: 0.3081\n",
            "Epoch 27/50 | Loss: 0.0081 | Train Accuracy: 0.3054 | Test Accuracy: 0.3088\n",
            "Epoch 28/50 | Loss: 0.0081 | Train Accuracy: 0.3069 | Test Accuracy: 0.3078\n",
            "Epoch 29/50 | Loss: 0.0081 | Train Accuracy: 0.3061 | Test Accuracy: 0.3070\n",
            "Epoch 30/50 | Loss: 0.0080 | Train Accuracy: 0.3078 | Test Accuracy: 0.3063\n",
            "Epoch 31/50 | Loss: 0.0080 | Train Accuracy: 0.3085 | Test Accuracy: 0.3063\n",
            "Epoch 32/50 | Loss: 0.0079 | Train Accuracy: 0.3105 | Test Accuracy: 0.3093\n",
            "Epoch 33/50 | Loss: 0.0079 | Train Accuracy: 0.3138 | Test Accuracy: 0.3145\n",
            "Epoch 34/50 | Loss: 0.0078 | Train Accuracy: 0.3113 | Test Accuracy: 0.3133\n",
            "Epoch 35/50 | Loss: 0.0078 | Train Accuracy: 0.3144 | Test Accuracy: 0.3140\n",
            "Epoch 36/50 | Loss: 0.0078 | Train Accuracy: 0.3149 | Test Accuracy: 0.3142\n",
            "Epoch 37/50 | Loss: 0.0077 | Train Accuracy: 0.3126 | Test Accuracy: 0.3124\n",
            "Epoch 38/50 | Loss: 0.0077 | Train Accuracy: 0.3168 | Test Accuracy: 0.3165\n",
            "Epoch 39/50 | Loss: 0.0077 | Train Accuracy: 0.3190 | Test Accuracy: 0.3197\n",
            "Epoch 40/50 | Loss: 0.0077 | Train Accuracy: 0.3212 | Test Accuracy: 0.3222\n",
            "Epoch 41/50 | Loss: 0.0076 | Train Accuracy: 0.3235 | Test Accuracy: 0.3221\n",
            "Epoch 42/50 | Loss: 0.0076 | Train Accuracy: 0.3224 | Test Accuracy: 0.3218\n",
            "Epoch 43/50 | Loss: 0.0076 | Train Accuracy: 0.3253 | Test Accuracy: 0.3229\n",
            "Epoch 44/50 | Loss: 0.0076 | Train Accuracy: 0.3249 | Test Accuracy: 0.3230\n",
            "Epoch 45/50 | Loss: 0.0076 | Train Accuracy: 0.3283 | Test Accuracy: 0.3246\n",
            "Epoch 46/50 | Loss: 0.0075 | Train Accuracy: 0.3287 | Test Accuracy: 0.3271\n",
            "Epoch 47/50 | Loss: 0.0075 | Train Accuracy: 0.3296 | Test Accuracy: 0.3280\n",
            "Epoch 48/50 | Loss: 0.0075 | Train Accuracy: 0.3311 | Test Accuracy: 0.3274\n",
            "Epoch 49/50 | Loss: 0.0075 | Train Accuracy: 0.3324 | Test Accuracy: 0.3297\n",
            "Epoch 50/50 | Loss: 0.0075 | Train Accuracy: 0.3325 | Test Accuracy: 0.3312\n",
            "Training with Adam optimizer...\n",
            "Epoch 1/50 | Loss: 0.0083 | Train Accuracy: 0.3419 | Test Accuracy: 0.3500\n",
            "Epoch 2/50 | Loss: 0.0068 | Train Accuracy: 0.4055 | Test Accuracy: 0.4033\n",
            "Epoch 3/50 | Loss: 0.0064 | Train Accuracy: 0.4252 | Test Accuracy: 0.4196\n",
            "Epoch 4/50 | Loss: 0.0061 | Train Accuracy: 0.4354 | Test Accuracy: 0.4326\n",
            "Epoch 5/50 | Loss: 0.0059 | Train Accuracy: 0.4838 | Test Accuracy: 0.4709\n",
            "Epoch 6/50 | Loss: 0.0057 | Train Accuracy: 0.4938 | Test Accuracy: 0.4730\n",
            "Epoch 7/50 | Loss: 0.0056 | Train Accuracy: 0.5005 | Test Accuracy: 0.4831\n",
            "Epoch 8/50 | Loss: 0.0054 | Train Accuracy: 0.5031 | Test Accuracy: 0.4773\n",
            "Epoch 9/50 | Loss: 0.0053 | Train Accuracy: 0.5286 | Test Accuracy: 0.4952\n",
            "Epoch 10/50 | Loss: 0.0052 | Train Accuracy: 0.5416 | Test Accuracy: 0.4970\n",
            "Epoch 11/50 | Loss: 0.0051 | Train Accuracy: 0.5320 | Test Accuracy: 0.4949\n",
            "Epoch 12/50 | Loss: 0.0050 | Train Accuracy: 0.5491 | Test Accuracy: 0.5015\n",
            "Epoch 13/50 | Loss: 0.0049 | Train Accuracy: 0.5701 | Test Accuracy: 0.5177\n",
            "Epoch 14/50 | Loss: 0.0048 | Train Accuracy: 0.5792 | Test Accuracy: 0.5166\n",
            "Epoch 15/50 | Loss: 0.0047 | Train Accuracy: 0.5741 | Test Accuracy: 0.5082\n",
            "Epoch 16/50 | Loss: 0.0046 | Train Accuracy: 0.5829 | Test Accuracy: 0.5041\n",
            "Epoch 17/50 | Loss: 0.0045 | Train Accuracy: 0.5940 | Test Accuracy: 0.5166\n",
            "Epoch 18/50 | Loss: 0.0045 | Train Accuracy: 0.6187 | Test Accuracy: 0.5296\n",
            "Epoch 19/50 | Loss: 0.0043 | Train Accuracy: 0.6084 | Test Accuracy: 0.5224\n",
            "Epoch 20/50 | Loss: 0.0042 | Train Accuracy: 0.6275 | Test Accuracy: 0.5177\n",
            "Epoch 21/50 | Loss: 0.0041 | Train Accuracy: 0.6314 | Test Accuracy: 0.5211\n",
            "Epoch 22/50 | Loss: 0.0041 | Train Accuracy: 0.6668 | Test Accuracy: 0.5348\n",
            "Epoch 23/50 | Loss: 0.0039 | Train Accuracy: 0.6483 | Test Accuracy: 0.5235\n",
            "Epoch 24/50 | Loss: 0.0039 | Train Accuracy: 0.6501 | Test Accuracy: 0.5155\n",
            "Epoch 25/50 | Loss: 0.0038 | Train Accuracy: 0.6792 | Test Accuracy: 0.5337\n",
            "Epoch 26/50 | Loss: 0.0037 | Train Accuracy: 0.6678 | Test Accuracy: 0.5142\n",
            "Epoch 27/50 | Loss: 0.0036 | Train Accuracy: 0.6908 | Test Accuracy: 0.5271\n",
            "Epoch 28/50 | Loss: 0.0035 | Train Accuracy: 0.6958 | Test Accuracy: 0.5285\n",
            "Epoch 29/50 | Loss: 0.0034 | Train Accuracy: 0.7104 | Test Accuracy: 0.5289\n",
            "Epoch 30/50 | Loss: 0.0033 | Train Accuracy: 0.7263 | Test Accuracy: 0.5371\n",
            "Epoch 31/50 | Loss: 0.0032 | Train Accuracy: 0.7065 | Test Accuracy: 0.5198\n",
            "Epoch 32/50 | Loss: 0.0031 | Train Accuracy: 0.7144 | Test Accuracy: 0.5265\n",
            "Epoch 33/50 | Loss: 0.0031 | Train Accuracy: 0.7204 | Test Accuracy: 0.5235\n",
            "Epoch 34/50 | Loss: 0.0030 | Train Accuracy: 0.7467 | Test Accuracy: 0.5228\n",
            "Epoch 35/50 | Loss: 0.0029 | Train Accuracy: 0.7626 | Test Accuracy: 0.5320\n",
            "Epoch 36/50 | Loss: 0.0028 | Train Accuracy: 0.7676 | Test Accuracy: 0.5371\n",
            "Epoch 37/50 | Loss: 0.0027 | Train Accuracy: 0.7803 | Test Accuracy: 0.5316\n",
            "Epoch 38/50 | Loss: 0.0026 | Train Accuracy: 0.7388 | Test Accuracy: 0.5095\n",
            "Epoch 39/50 | Loss: 0.0025 | Train Accuracy: 0.7936 | Test Accuracy: 0.5311\n",
            "Epoch 40/50 | Loss: 0.0024 | Train Accuracy: 0.7905 | Test Accuracy: 0.5283\n",
            "Epoch 41/50 | Loss: 0.0024 | Train Accuracy: 0.8058 | Test Accuracy: 0.5317\n",
            "Epoch 42/50 | Loss: 0.0023 | Train Accuracy: 0.8074 | Test Accuracy: 0.5332\n",
            "Epoch 43/50 | Loss: 0.0022 | Train Accuracy: 0.8126 | Test Accuracy: 0.5235\n",
            "Epoch 44/50 | Loss: 0.0022 | Train Accuracy: 0.8041 | Test Accuracy: 0.5115\n",
            "Epoch 45/50 | Loss: 0.0021 | Train Accuracy: 0.8206 | Test Accuracy: 0.5152\n",
            "Epoch 46/50 | Loss: 0.0020 | Train Accuracy: 0.8272 | Test Accuracy: 0.5154\n",
            "Epoch 47/50 | Loss: 0.0019 | Train Accuracy: 0.8251 | Test Accuracy: 0.5207\n",
            "Epoch 48/50 | Loss: 0.0019 | Train Accuracy: 0.8336 | Test Accuracy: 0.5217\n",
            "Epoch 49/50 | Loss: 0.0019 | Train Accuracy: 0.8409 | Test Accuracy: 0.5188\n",
            "Epoch 50/50 | Loss: 0.0017 | Train Accuracy: 0.8678 | Test Accuracy: 0.5323\n"
          ]
        },
        {
          "output_type": "display_data",
          "data": {
            "text/plain": [
              "<Figure size 640x480 with 1 Axes>"
            ],
            "image/png": "[encoded data removed]"
          },
          "metadata": {}
        }
      ]
    },
    {
      "cell_type": "markdown",
      "source": [
        "출력 결과를 보면 잘 수렴하는 것을 볼 수 있습니다.\n",
        "이전 구현과 다른 점은 다음 두 가지입니다.\n",
        "- `for data in trainloader`를 통해 batch들을 iterate하면서 model을 학습합니다.\n",
        "- `inputs, labels = inputs.to('cuda'), labels.to('cuda')`를 통해 model의 입력으로 들어가는 tensor들을 GPU로 보냅니다.\n",
        "\n",
        "마지막으로 첫 번째 data에 대한 예측 결과를 살펴봅시다."
      ],
      "metadata": {
        "id": "YRDcptrqniX7"
      }
    },
    {
      "cell_type": "code",
      "source": [
        "idx = 0\n",
        "\n",
        "x = trainset[idx][0][None]  # (1, 1, 28, 28)\n",
        "x = x.to('cuda')\n",
        "\n",
        "print(model(x))\n",
        "print(trainset[idx][1])"
      ],
      "metadata": {
        "id": "Zct0ssSKwjt1",
        "colab": {
          "base_uri": "https://localhost:8080/"
        },
        "outputId": "b6f69b3c-dec1-4373-c0a3-014d3f147fb3"
      },
      "execution_count": null,
      "outputs": [
        {
          "output_type": "stream",
          "name": "stdout",
          "text": [
            "Epoch   0 | Loss: 2.2975\n",
            "Epoch   1 | Loss: 2.2903\n",
            "Epoch   2 | Loss: 2.2836\n",
            "Epoch   3 | Loss: 2.2772\n",
            "Epoch   4 | Loss: 2.2710\n",
            "Epoch   5 | Loss: 2.2648\n",
            "Epoch   6 | Loss: 2.2585\n",
            "Epoch   7 | Loss: 2.2520\n",
            "Epoch   8 | Loss: 2.2454\n",
            "Epoch   9 | Loss: 2.2386\n",
            "Epoch  10 | Loss: 2.2318\n",
            "Epoch  11 | Loss: 2.2248\n",
            "Epoch  12 | Loss: 2.2179\n",
            "Epoch  13 | Loss: 2.2086\n",
            "Epoch  14 | Loss: 2.1930\n",
            "Epoch  15 | Loss: 2.1812\n",
            "Epoch  16 | Loss: 2.1701\n",
            "Epoch  17 | Loss: 2.1556\n",
            "Epoch  18 | Loss: 2.1418\n",
            "Epoch  19 | Loss: 2.1285\n",
            "Epoch  20 | Loss: 2.1155\n",
            "Epoch  21 | Loss: 2.1029\n",
            "Epoch  22 | Loss: 2.0907\n",
            "Epoch  23 | Loss: 2.0790\n",
            "Epoch  24 | Loss: 2.0679\n",
            "Epoch  25 | Loss: 2.0573\n",
            "Epoch  26 | Loss: 2.0472\n",
            "Epoch  27 | Loss: 2.0374\n",
            "Epoch  28 | Loss: 2.0281\n",
            "Epoch  29 | Loss: 2.0192\n",
            "Epoch  30 | Loss: 2.0106\n",
            "Epoch  31 | Loss: 2.0023\n",
            "Epoch  32 | Loss: 1.9944\n",
            "Epoch  33 | Loss: 1.9868\n",
            "Epoch  34 | Loss: 1.9794\n",
            "Epoch  35 | Loss: 1.9725\n",
            "Epoch  36 | Loss: 1.9657\n",
            "Epoch  37 | Loss: 1.9592\n",
            "Epoch  38 | Loss: 1.9529\n",
            "Epoch  39 | Loss: 1.9469\n",
            "Epoch  40 | Loss: 1.9413\n",
            "Epoch  41 | Loss: 1.9358\n",
            "Epoch  42 | Loss: 1.9304\n",
            "Epoch  43 | Loss: 1.9256\n",
            "Epoch  44 | Loss: 1.9208\n",
            "Epoch  45 | Loss: 1.9162\n",
            "Epoch  46 | Loss: 1.9118\n",
            "Epoch  47 | Loss: 1.9076\n",
            "Epoch  48 | Loss: 1.9035\n",
            "Epoch  49 | Loss: 1.8996\n"
          ]
        }
      ]
    },
    {
      "cell_type": "markdown",
      "source": [
        "여기서 idx를 조정하여 다른 data에 대한 출력 결과도 볼 수 있습니다.\n",
        "예측 결과를 보시면 아직 성능이 그렇게 좋지 않은 것을 알 수 있습니다."
      ],
      "metadata": {
        "id": "qzgSOrMsoZ2z"
      }
    },
    {
      "cell_type": "code",
      "source": [],
      "metadata": {
        "id": "d6M4SpWQoML9"
      },
      "execution_count": 39,
      "outputs": []
    }
  ]
}